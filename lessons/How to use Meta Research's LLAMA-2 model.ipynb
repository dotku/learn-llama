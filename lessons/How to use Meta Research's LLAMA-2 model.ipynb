import torch
import transformers
from transformers import AutoTokenizer

model = "/kaggle/input/llama-2/pytorch/13b-chat-hf/1"
prompt = "What is the approximate number of luffas that a fully grown luffa tree can produce in a single growing season?\n"

tokenizer = AutoTokenizer.from_pretrained(model)
pipeline = transformers.pipeline(
    "text-generation",
    model=model,
    torch_dtype=torch.float16,
    device_map="auto",
)

sequences = pipeline(
    prompt,
    do_sample=True,
    top_k=10,
    num_return_sequences=1,
    eos_token_id=tokenizer.eos_token_id,
    max_length=200,
)
